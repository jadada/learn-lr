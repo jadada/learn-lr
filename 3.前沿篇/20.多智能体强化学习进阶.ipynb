{
 "cells": [
  {
   "cell_type": "markdown",
   "metadata": {},
   "source": [
    "# 多智能体强化学习进阶\n",
    "\n",
    "教程链接：[多智能体强化学习进阶](https://hrl.boyuai.com/chapter/3/%E5%A4%9A%E6%99%BA%E8%83%BD%E4%BD%93%E5%BC%BA%E5%8C%96%E5%AD%A6%E4%B9%A0%E8%BF%9B%E9%98%B6)\n",
    "\n",
    "**中心化训练去中心化执行**（centralized training with decentralized execution，CTDE）是指在训练的时候使用一些单个智能体看不到的全局信息而以达到更好的训练效果，而在执行时不使用这些信息，每个智能体完全根据自己的策略直接动作以达到去中心化执行的效果。中心化训练去中心化执行的算法能够在训练时有效地利用全局信息以达到更好且更稳定的训练效果，同时在进行策略模型推断时可以仅利用局部信息，使得算法具有一定的扩展性。\n",
    "\n",
    "CTDE 可以类比成一个足球队的训练和比赛过程：在训练时，11 个球员可以直接获得教练的指导从而完成球队的整体配合，而教练本身掌握着比赛全局信息，教练的指导也是从整支队、整场比赛的角度进行的；而训练好的 11 个球员在上场比赛时，则根据场上的实时情况直接做出决策，不再有教练的指导。\n",
    "\n",
    "CTDE 算法主要分为两种：一种是基于值函数的方法，例如 VDN，QMIX 算法等；另一种是基于 Actor-Critic 的方法，例如 MADDPG 和 COMA 等。"
   ]
  },
  {
   "cell_type": "markdown",
   "metadata": {},
   "source": [
    "## 0. 环境介绍\n",
    "\n",
    "我们要使用的环境为多智能体粒子环境（multiagent particles environment，MPE），它是一些面向多智能体交互的环境的集合，在这个环境中，粒子智能体可以移动、通信、“看”到其他智能体，也可以和固定位置的地标交互。\n",
    "\n",
    "接下来安装环境，由于 MPE 的官方仓库的代码已经不再维护了，而其依赖于 gym 的旧版本，因此我们需要重新安装 gym 库。"
   ]
  },
  {
   "cell_type": "code",
   "execution_count": 1,
   "metadata": {},
   "outputs": [
    {
     "name": "stdout",
     "output_type": "stream",
     "text": [
      "fatal: destination path 'multiagent-particle-envs' already exists and is not an empty directory.\n"
     ]
    }
   ],
   "source": [
    "!git clone https://github.com/boyu-ai/multiagent-particle-envs.git --quiet\n",
    "!pip install -e multiagent-particle-envs -q"
   ]
  },
  {
   "cell_type": "code",
   "execution_count": 2,
   "metadata": {},
   "outputs": [],
   "source": [
    "# 由于multiagent-pariticle-env底层的实现有一些版本问题,因此gym需要改为可用的版本\n",
    "!pip install --upgrade gym==0.10.5 -q"
   ]
  },
  {
   "cell_type": "code",
   "execution_count": 3,
   "metadata": {},
   "outputs": [],
   "source": [
    "import torch as th\n",
    "import torch.nn as nn\n",
    "import torch.nn.functional as F\n",
    "import numpy as np\n",
    "import matplotlib.pyplot as plt\n",
    "import random\n",
    "import rl_utils"
   ]
  },
  {
   "cell_type": "code",
   "execution_count": 4,
   "metadata": {},
   "outputs": [],
   "source": [
    "import sys\n",
    "sys.path.append(\"multiagent-particle-envs\")\n",
    "\n",
    "import gym\n",
    "from multiagent.environment import MultiAgentEnv\n",
    "import multiagent.scenarios as scenarios"
   ]
  },
  {
   "cell_type": "code",
   "execution_count": 5,
   "metadata": {},
   "outputs": [],
   "source": [
    "def make_env(scenario_name:str) -> MultiAgentEnv:\n",
    "    # 从环境文件脚本中创建环境\n",
    "    scenario = scenarios.load(scenario_name + \".py\").Scenario()\n",
    "    world = scenario.make_world()\n",
    "    env = MultiAgentEnv(world, scenario.reset_world, scenario.reward,\n",
    "                        scenario.observation)\n",
    "    return env"
   ]
  },
  {
   "cell_type": "markdown",
   "metadata": {},
   "source": [
    "## 1. MADDPG 算法\n",
    "\n",
    "**多智能体 DDPG**（muli-agent DDPG，MADDPG）算法从字面意思上来看就是对于每个智能体实现一个 DDPG 的算法。所有智能体共享一个中心化的 Critic 网络，该 Critic 网络在训练的过程中同时对每个智能体的 Actor 网络给出指导，而执行时每个智能体的 Actor 网络则是完全独立做出行动，即去中心化地执行。\n",
    "\n",
    "需要说明的是，MPE 环境中的每个智能体的动作空间是离散的。 DDPG 算法本身需要使智能体的动作对于其策略参数可导，这对连续的动作空间来说是成立的，但是对于离散的动作空间并不成立（离散分布的采样不可求导）。但这并不意味着当前的任务不能使用 MADDPG 算法求解，因为我们可以使用一个叫作 Gumbel-Softmax 的重参数化方法来得到离散分布的近似采样。"
   ]
  },
  {
   "cell_type": "markdown",
   "metadata": {},
   "source": [
    "定义一些需要用到的工具函数，其中包括让 DDPG 可以适用于离散动作空间的 Gumbel Softmax 采样的相关函数。"
   ]
  },
  {
   "cell_type": "code",
   "execution_count": 6,
   "metadata": {},
   "outputs": [],
   "source": [
    "def onehot_from_logits(\n",
    "        logits:th.Tensor, eps:float=0.01\n",
    "    ) -> th.Tensor:\n",
    "    ''' 生成最优动作的独热 (one-hot) 形式 '''\n",
    "    argmax_acs = (logits == logits.max(1, keepdim=True)[0]).float()\n",
    "    # 生成随机动作,转换成独热形式\n",
    "    rand_acs = th.autograd.Variable(\n",
    "                th.eye(logits.shape[1])[[\n",
    "                    np.random.choice(range(logits.shape[1]), size=logits.shape[0])\n",
    "                ]],\n",
    "                requires_grad=False\n",
    "            ).to(logits.device)\n",
    "    # 通过epsilon-贪婪算法来选择用哪个动作\n",
    "    return th.stack([\n",
    "            argmax_acs[i] if r > eps else rand_acs[i]\n",
    "            for i, r in enumerate(th.rand(logits.shape[0]))\n",
    "        ])\n",
    "\n",
    "\n",
    "def sample_gumbel(\n",
    "        shape:th.Size, eps:float=1e-20, tens_type=th.FloatTensor\n",
    "    ) -> th.Tensor:\n",
    "    \"\"\"从Gumbel(0,1)分布中采样\"\"\"\n",
    "    U = th.autograd.Variable(tens_type(*shape).uniform_(), requires_grad=False)\n",
    "    return -th.log(-th.log(U + eps) + eps)\n",
    "\n",
    "\n",
    "def gumbel_softmax_sample(\n",
    "        logits:th.Tensor, temperature:float\n",
    "    ) -> th.Tensor:\n",
    "    \"\"\" 从Gumbel-Softmax分布中采样\"\"\"\n",
    "    y = logits + sample_gumbel(logits.shape, tens_type=type(logits.data)\n",
    "                                ).to(logits.device)\n",
    "    return F.softmax(y / temperature, dim=1)\n",
    "\n",
    "\n",
    "def gumbel_softmax(\n",
    "        logits:th.Tensor, temperature:float=1.0\n",
    "    ) -> th.Tensor:\n",
    "    \"\"\"\n",
    "    从Gumbel-Softmax分布中采样,并进行离散化。\n",
    "    返回一个y_hard的独热量, 但是它的梯度是y, 我们既能够得到一个与环境交互的离散动作,\n",
    "    又可以正确地反传梯度\n",
    "    \"\"\"\n",
    "    y = gumbel_softmax_sample(logits, temperature)\n",
    "    y_hard = onehot_from_logits(y)\n",
    "    y = (y_hard.to(logits.device) - y).detach() + y\n",
    "    return y"
   ]
  },
  {
   "cell_type": "markdown",
   "metadata": {},
   "source": [
    "接着实现我们的单智能体 DDPG。其中包含 Actor 网络与 Critic 网络，以及计算动作的函数。但这里没有更新网络参数的函数，其将会在 MADDPG 类中被实现。"
   ]
  },
  {
   "cell_type": "code",
   "execution_count": 7,
   "metadata": {},
   "outputs": [],
   "source": [
    "class TwoLayerFC(nn.Module):\n",
    "    def __init__(self, num_in:int, num_out:int, hidden_dim:int):\n",
    "        super().__init__()\n",
    "        self.fc1 = nn.Linear(num_in, hidden_dim)\n",
    "        self.fc2 = nn.Linear(hidden_dim, hidden_dim)\n",
    "        self.fc3 = nn.Linear(hidden_dim, num_out)\n",
    "\n",
    "    def forward(self, x:th.Tensor) -> th.Tensor:\n",
    "        x = F.relu(self.fc1(x))\n",
    "        x = F.relu(self.fc2(x))\n",
    "        return self.fc3(x)\n",
    "\n",
    "\n",
    "class DDPG:\n",
    "    ''' DDPG算法 '''\n",
    "    def __init__(self, \n",
    "            state_dim:int, action_dim:int, critic_input_dim:int, hidden_dim:int,\n",
    "            actor_lr:float, critic_lr:float, device:th.device\n",
    "        ):\n",
    "        self.actor = TwoLayerFC(state_dim, action_dim, hidden_dim).to(device)\n",
    "        self.target_actor = TwoLayerFC(state_dim, action_dim,hidden_dim).to(device)\n",
    "        self.critic = TwoLayerFC(critic_input_dim, 1, hidden_dim).to(device)\n",
    "        self.target_critic = TwoLayerFC(critic_input_dim, 1, hidden_dim).to(device)\n",
    "        self.target_critic.load_state_dict(self.critic.state_dict())\n",
    "        self.target_actor.load_state_dict(self.actor.state_dict())\n",
    "        self.actor_optimizer = th.optim.Adam(self.actor.parameters(),\n",
    "                                        lr=actor_lr)\n",
    "        self.critic_optimizer = th.optim.Adam(self.critic.parameters(),\n",
    "                                        lr=critic_lr)\n",
    "\n",
    "    def take_action(self, state:th.Tensor, explore:bool=False):\n",
    "        action = self.actor(state)\n",
    "        if explore:\n",
    "            action = gumbel_softmax(action)\n",
    "        else:\n",
    "            action = onehot_from_logits(action)\n",
    "        return action.detach().cpu().numpy()[0]\n",
    "\n",
    "    def soft_update(self, net, target_net, tau):\n",
    "        for param_target, param in zip(target_net.parameters(), net.parameters()):\n",
    "            param_target.data.copy_(\n",
    "                param_target.data * (1.0 - tau) + param.data * tau\n",
    "            )"
   ]
  },
  {
   "cell_type": "markdown",
   "metadata": {},
   "source": [
    "接下来正式实现一个 MADDPG 类，该类对于每个智能体都会维护一个 DDPG 算法。"
   ]
  },
  {
   "cell_type": "code",
   "execution_count": 8,
   "metadata": {},
   "outputs": [],
   "source": [
    "class MADDPG:\n",
    "    def __init__(self, \n",
    "            env, device:th.device, actor_lr:float, critic_lr:float, \n",
    "            hidden_dim:int, state_dims:list[int], action_dims:list[int], critic_input_dim:int, \n",
    "            gamma:float, tau:float\n",
    "        ):\n",
    "        self.env = env\n",
    "        self.agents = []\n",
    "        for i in range(len(env.agents)):\n",
    "            self.agents.append(\n",
    "                DDPG(state_dims[i], action_dims[i], critic_input_dim,\n",
    "                     hidden_dim, actor_lr, critic_lr, device)\n",
    "            )\n",
    "        self.gamma = gamma\n",
    "        self.tau = tau\n",
    "        self.critic_criterion = th.nn.MSELoss()\n",
    "        self.device = device\n",
    "\n",
    "    @property\n",
    "    def policies(self) -> list:\n",
    "        return [agt.actor for agt in self.agents]\n",
    "\n",
    "    @property\n",
    "    def target_policies(self) -> list:\n",
    "        return [agt.target_actor for agt in self.agents]\n",
    "\n",
    "    def take_action(self, states:th.Tensor, explore:bool) -> list:\n",
    "        states = [\n",
    "            th.tensor([states[i]], dtype=th.float, device=self.device)\n",
    "            for i in range(len(self.env.agents))\n",
    "        ]\n",
    "        return [\n",
    "            agent.take_action(state, explore)\n",
    "            for agent, state in zip(self.agents, states)\n",
    "        ]\n",
    "\n",
    "    def update(self, sample:tuple, i_agent:int):\n",
    "        obs, act, rew, next_obs, done = sample\n",
    "        cur_agent = self.agents[i_agent]\n",
    "\n",
    "        cur_agent.critic_optimizer.zero_grad()\n",
    "        all_target_act = [\n",
    "            onehot_from_logits(pi(_next_obs))\n",
    "            for pi, _next_obs in zip(self.target_policies, next_obs)\n",
    "        ]\n",
    "        target_critic_input = th.cat((*next_obs, *all_target_act), dim=1)\n",
    "        target_critic_value = rew[i_agent].view(-1, 1) + \\\n",
    "                            self.gamma * cur_agent.target_critic(target_critic_input\n",
    "                                                ) * (1 - done[i_agent].view(-1, 1))\n",
    "        critic_input = th.cat((*obs, *act), dim=1)\n",
    "        critic_value = cur_agent.critic(critic_input)\n",
    "        critic_loss = self.critic_criterion(\n",
    "                        critic_value, target_critic_value.detach()\n",
    "                    )\n",
    "        critic_loss.backward()\n",
    "        cur_agent.critic_optimizer.step()\n",
    "\n",
    "        cur_agent.actor_optimizer.zero_grad()\n",
    "        cur_actor_out = cur_agent.actor(obs[i_agent])\n",
    "        cur_act_vf_in = gumbel_softmax(cur_actor_out)\n",
    "        all_actor_acs = []\n",
    "        for i, (pi, _obs) in enumerate(zip(self.policies, obs)):\n",
    "            if i == i_agent:\n",
    "                all_actor_acs.append(cur_act_vf_in)\n",
    "            else:\n",
    "                all_actor_acs.append(onehot_from_logits(pi(_obs)))\n",
    "        vf_in = th.cat((*obs, *all_actor_acs), dim=1)\n",
    "        actor_loss = -cur_agent.critic(vf_in).mean()\n",
    "        actor_loss += (cur_actor_out**2).mean() * 1e-3\n",
    "        actor_loss.backward()\n",
    "        cur_agent.actor_optimizer.step()\n",
    "\n",
    "    def update_all_targets(self):\n",
    "        for agt in self.agents:\n",
    "            agt.soft_update(agt.actor, agt.target_actor, self.tau)\n",
    "            agt.soft_update(agt.critic, agt.target_critic, self.tau)"
   ]
  },
  {
   "cell_type": "markdown",
   "metadata": {},
   "source": [
    "定义一些超参数，创建环境、智能体以及经验回放池并准备训练。"
   ]
  },
  {
   "cell_type": "code",
   "execution_count": 9,
   "metadata": {},
   "outputs": [],
   "source": [
    "num_episodes = 5000\n",
    "episode_length = 25  # 每条序列的最大长度\n",
    "buffer_size = 100000\n",
    "hidden_dim = 64\n",
    "actor_lr = 1e-2\n",
    "critic_lr = 1e-2\n",
    "gamma = 0.95\n",
    "tau = 1e-2\n",
    "batch_size = 1024\n",
    "device = th.device(\"cuda\" if th.cuda.is_available() else \"cpu\")\n",
    "update_interval = 100\n",
    "minimal_size = 4000\n",
    "\n",
    "env_id = \"simple_adversary\"\n",
    "env = make_env(env_id)\n",
    "replay_buffer = rl_utils.ReplayBuffer(buffer_size)\n",
    "\n",
    "state_dims = []\n",
    "action_dims = []\n",
    "for action_space in env.action_space:\n",
    "    action_dims.append(action_space.n)\n",
    "for state_space in env.observation_space:\n",
    "    state_dims.append(state_space.shape[0])\n",
    "critic_input_dim = sum(state_dims) + sum(action_dims)\n",
    "\n",
    "maddpg = MADDPG(env, device, actor_lr, critic_lr, hidden_dim, state_dims,\n",
    "                action_dims, critic_input_dim, gamma, tau)"
   ]
  },
  {
   "cell_type": "markdown",
   "metadata": {},
   "source": [
    "接下来实现以下评估策略的方法，之后就可以开始训练了！"
   ]
  },
  {
   "cell_type": "code",
   "execution_count": 10,
   "metadata": {},
   "outputs": [
    {
     "name": "stderr",
     "output_type": "stream",
     "text": [
      "/tmp/ipykernel_3446012/2883626405.py:29: UserWarning: Creating a tensor from a list of numpy.ndarrays is extremely slow. Please consider converting the list to a single numpy.ndarray with numpy.array() before converting to a tensor. (Triggered internally at  ../torch/csrc/utils/tensor_new.cpp:201.)\n",
      "  th.tensor([states[i]], dtype=th.float, device=self.device)\n"
     ]
    },
    {
     "name": "stdout",
     "output_type": "stream",
     "text": [
      "Episode: 100, [-34.335171142942194, -0.763461326540244, -0.763461326540244]\n"
     ]
    },
    {
     "name": "stderr",
     "output_type": "stream",
     "text": [
      "/data3/djp/rvo2/learn-rl/前沿篇/rl_utils.py:37: VisibleDeprecationWarning: Creating an ndarray from ragged nested sequences (which is a list-or-tuple of lists-or-tuples-or ndarrays with different lengths or shapes) is deprecated. If you meant to do this, you must specify 'dtype=object' when creating the ndarray.\n",
      "  return np.array(state), action, reward, np.array(next_state), done\n"
     ]
    },
    {
     "name": "stdout",
     "output_type": "stream",
     "text": [
      "Episode: 200, [-164.77028064776877, 6.1108276677586275, 6.1108276677586275]\n",
      "Episode: 300, [-40.391016131295395, 2.570898570577302, 2.570898570577302]\n",
      "Episode: 400, [-74.73735593124262, -3.707389601204239, -3.707389601204239]\n",
      "Episode: 500, [-15.084802465771979, 1.962572561055457, 1.962572561055457]\n",
      "Episode: 600, [-13.38308097704197, 4.3000866051992634, 4.3000866051992634]\n",
      "Episode: 700, [-14.561657518342626, 3.7118956217096764, 3.7118956217096764]\n",
      "Episode: 800, [-11.918005348094756, 5.248323470112564, 5.248323470112564]\n",
      "Episode: 900, [-12.327841460079124, 7.264982553236236, 7.264982553236236]\n",
      "Episode: 1000, [-11.582191704148403, 8.301602538703213, 8.301602538703213]\n",
      "Episode: 1100, [-10.042180479438711, 6.8866426140491415, 6.8866426140491415]\n",
      "Episode: 1200, [-9.28276476427195, 6.7120955586513595, 6.7120955586513595]\n",
      "Episode: 1300, [-9.465400000035538, 7.789190979278872, 7.789190979278872]\n",
      "Episode: 1400, [-8.447427978880512, 6.523814347926937, 6.523814347926937]\n",
      "Episode: 1500, [-8.115482217501125, 6.215929054236714, 6.215929054236714]\n",
      "Episode: 1600, [-9.681272147259225, 6.807860361357689, 6.807860361357689]\n",
      "Episode: 1700, [-8.36824772798246, 5.892980287788456, 5.892980287788456]\n",
      "Episode: 1800, [-9.611533188069814, 7.196810265942649, 7.196810265942649]\n",
      "Episode: 1900, [-7.3507284077479325, 5.905539713938195, 5.905539713938195]\n",
      "Episode: 2000, [-7.946016326792331, 6.034844282587571, 6.034844282587571]\n",
      "Episode: 2100, [-9.753970062515103, 6.761810639560873, 6.761810639560873]\n",
      "Episode: 2200, [-9.15505577952607, 6.763144916378747, 6.763144916378747]\n",
      "Episode: 2300, [-7.839525452918265, 4.8971337871960205, 4.8971337871960205]\n",
      "Episode: 2400, [-9.850096633231123, 6.472784545189922, 6.472784545189922]\n",
      "Episode: 2500, [-8.555783834612772, 5.34587414572021, 5.34587414572021]\n",
      "Episode: 2600, [-9.130395509764599, 6.000072620391745, 6.000072620391745]\n",
      "Episode: 2700, [-8.744959250467712, 6.383370208841548, 6.383370208841548]\n",
      "Episode: 2800, [-9.69080725692335, 7.146844820388728, 7.146844820388728]\n",
      "Episode: 2900, [-10.71915104212098, 7.182556477202348, 7.182556477202348]\n",
      "Episode: 3000, [-7.58230316084077, 4.978990578499625, 4.978990578499625]\n",
      "Episode: 3100, [-8.179022867397169, 5.81377345112278, 5.81377345112278]\n",
      "Episode: 3200, [-9.799549337701634, 6.239217077649749, 6.239217077649749]\n",
      "Episode: 3300, [-8.922061711165489, 5.6297737911362296, 5.6297737911362296]\n",
      "Episode: 3400, [-8.317697303286531, 4.617589797036089, 4.617589797036089]\n",
      "Episode: 3500, [-7.836132265439789, 5.197139406427469, 5.197139406427469]\n",
      "Episode: 3600, [-8.870988001497198, 5.500849512500421, 5.500849512500421]\n",
      "Episode: 3700, [-8.539381341094032, 5.515739554084972, 5.515739554084972]\n",
      "Episode: 3800, [-7.365644505424794, 4.68747864515409, 4.68747864515409]\n",
      "Episode: 3900, [-8.543856189615406, 4.528988977750922, 4.528988977750922]\n",
      "Episode: 4000, [-7.991776844754844, 4.546075587650187, 4.546075587650187]\n",
      "Episode: 4100, [-10.71814440378105, 6.731671343879024, 6.731671343879024]\n",
      "Episode: 4200, [-9.257379806920873, 5.022008336592638, 5.022008336592638]\n",
      "Episode: 4300, [-7.642015183993396, 4.988409930812025, 4.988409930812025]\n",
      "Episode: 4400, [-7.695316780752578, 4.767769094070141, 4.767769094070141]\n",
      "Episode: 4500, [-6.824821810675546, 4.190747671031674, 4.190747671031674]\n",
      "Episode: 4600, [-8.51816348778094, 5.117259507255618, 5.117259507255618]\n",
      "Episode: 4700, [-8.123362328587875, 4.30918765409541, 4.30918765409541]\n",
      "Episode: 4800, [-7.835995277492148, 4.420163869399612, 4.420163869399612]\n",
      "Episode: 4900, [-8.901120269383298, 5.640787945660558, 5.640787945660558]\n",
      "Episode: 5000, [-8.581803440636191, 4.763503833252177, 4.763503833252177]\n"
     ]
    }
   ],
   "source": [
    "def evaluate(\n",
    "        env_id:str, maddpg:MADDPG, n_episode:int=10, episode_length:int=25\n",
    "    ) -> list:\n",
    "    # 对学习的策略进行评估,此时不会进行探索\n",
    "    env = make_env(env_id)\n",
    "    returns = np.zeros(len(env.agents))\n",
    "    for _ in range(n_episode):\n",
    "        obs = env.reset()\n",
    "        for t_i in range(episode_length):\n",
    "            actions = maddpg.take_action(obs, explore=False)\n",
    "            obs, rew, done, info = env.step(actions)\n",
    "            rew = np.array(rew)\n",
    "            returns += rew / n_episode\n",
    "    return returns.tolist()\n",
    "\n",
    "\n",
    "return_list = []  # 记录每一轮的回报（return）\n",
    "total_step = 0\n",
    "for i_episode in range(num_episodes):\n",
    "    state = env.reset()\n",
    "    # ep_returns = np.zeros(len(env.agents))\n",
    "    for e_i in range(episode_length):\n",
    "        actions = maddpg.take_action(state, explore=True)\n",
    "        next_state, reward, done, _ = env.step(actions)\n",
    "        replay_buffer.add(state, actions, reward, next_state, done)\n",
    "        state = next_state\n",
    "\n",
    "        total_step += 1\n",
    "        if replay_buffer.size() >= minimal_size and \\\n",
    "           total_step % update_interval == 0:\n",
    "            sample = replay_buffer.sample(batch_size)\n",
    "\n",
    "            def stack_array(x) -> list:\n",
    "                rearranged = [[sub_x[i] for sub_x in x]\n",
    "                              for i in range(len(x[0]))]\n",
    "                return [\n",
    "                    th.FloatTensor(np.vstack(aa)).to(device)\n",
    "                    for aa in rearranged\n",
    "                ]\n",
    "\n",
    "            sample = [stack_array(x) for x in sample]\n",
    "            for a_i in range(len(env.agents)):\n",
    "                maddpg.update(sample, a_i)\n",
    "            maddpg.update_all_targets()\n",
    "    if (i_episode + 1) % 100 == 0:\n",
    "        ep_returns = evaluate(env_id, maddpg, n_episode=100)\n",
    "        return_list.append(ep_returns)\n",
    "        print(f\"Episode: {i_episode+1}, {ep_returns}\")"
   ]
  },
  {
   "cell_type": "code",
   "execution_count": 11,
   "metadata": {},
   "outputs": [
    {
     "data": {
      "image/png": "[encoded data removed]",
      "text/plain": [
       "<Figure size 640x480 with 1 Axes>"
      ]
     },
     "metadata": {},
     "output_type": "display_data"
    },
    {
     "data": {
      "image/png": "[encoded data removed]",
      "text/plain": [
       "<Figure size 640x480 with 1 Axes>"
      ]
     },
     "metadata": {},
     "output_type": "display_data"
    },
    {
     "data": {
      "image/png": "[encoded data removed]",
      "text/plain": [
       "<Figure size 640x480 with 1 Axes>"
      ]
     },
     "metadata": {},
     "output_type": "display_data"
    }
   ],
   "source": [
    "return_array = np.array(return_list)\n",
    "for i, agent_name in enumerate([\"adversary_0\", \"agent_0\", \"agent_1\"]):\n",
    "    plt.figure()\n",
    "    plt.plot(\n",
    "        np.arange(return_array.shape[0]) * 100,\n",
    "        rl_utils.moving_average(return_array[:, i], 9))\n",
    "    plt.xlabel(\"Episodes\")\n",
    "    plt.ylabel(\"Returns\")\n",
    "    plt.title(f\"{agent_name} by MADDPG\")"
   ]
  },
  {
   "cell_type": "markdown",
   "metadata": {},
   "source": [
    "可以看到，正常智能体`agent_0`和`agent_1`的回报结果完全一致，这是因为它们的奖励函数完全一样。正常智能体最终保持了正向的回报，说明它们通过合作成功地占领了两个不同的地点，进而让对抗智能体无法知道哪个地点是目标地点。另外，我们也可以发现 MADDPG 的收敛速度和稳定性都比较不错。"
   ]
  }
 ],
 "metadata": {
  "kernelspec": {
   "display_name": "Python 3.9.13 ('rl')",
   "language": "python",
   "name": "python3"
  },
  "language_info": {
   "codemirror_mode": {
    "name": "ipython",
    "version": 3
   },
   "file_extension": ".py",
   "mimetype": "text/x-python",
   "name": "python",
   "nbconvert_exporter": "python",
   "pygments_lexer": "ipython3",
   "version": "3.9.13"
  },
  "orig_nbformat": 4,
  "vscode": {
   "interpreter": {
    "hash": "daabfc0ad87b2eadf08bb589d7f960bc5d32f58d962da0e07082c8edc1891a24"
   }
  }
 },
 "nbformat": 4,
 "nbformat_minor": 2
}
